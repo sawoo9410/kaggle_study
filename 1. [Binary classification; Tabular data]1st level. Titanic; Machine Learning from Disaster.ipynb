{
 "cells": [
  {
   "cell_type": "markdown",
   "id": "5934fa54",
   "metadata": {},
   "source": [
    "# EDA To Prediction(DieTanic)"
   ]
  },
  {
   "cell_type": "markdown",
   "id": "5fc2cebf",
   "metadata": {},
   "source": [
    "##### \"이유한님의 캐글 코리아 캐글 스터디 커널 커리큘럼\"에 따라 필사한 내용입니다.\n",
    "\n",
    "- 필사 노트북의 원 출처 : https://www.kaggle.com/code/ash316/eda-to-prediction-dietanic/notebook"
   ]
  },
  {
   "cell_type": "markdown",
   "id": "621965e5",
   "metadata": {},
   "source": [
    "### Why is the name DieTanic?\n",
    "- 1912년 4월 15일, 빙하에 의해 2224명의 승객 중 1502명이 죽은 악명 높은 난파 사고이기 때문이다.\n",
    "\n",
    "#### - Tatanic data는 kaggle conpatition에 처음 참여해서 공부하기 좋은 데이터이다.\n",
    "#### - \"DieTanic\"은 모델링을 통해 어떤 결과를 예측할 때 워크플로우에 대한 기본적인 아이디어를 제공한다."
   ]
  },
  {
   "cell_type": "markdown",
   "id": "25201bab",
   "metadata": {},
   "source": [
    "### DieTanic의 목차\n",
    "\n",
    "1. Exploratory Data Analysis(EDA)<br>\n",
    "  1) Anaylsis of the features.<br>\n",
    "  2) Finding any relations or trends considering multiple features.<br>\n",
    "  <br>\n",
    "2. Feature Engineering and Data Cleaning<br>\n",
    "  1) Adding any few features.<br>\n",
    "  2) Removing redundent features.<br>\n",
    "  3) Converting features into suitable from for modeliing<br>\n",
    "  <br>\n",
    "3. Predictive Modeling<br>\n",
    "  1) Running Basic Algorithms.<br>\n",
    "  2) Cross Validation.<br>\n",
    "  3) Ensembling.<br>\n",
    "  4) Important Features Extraction.<br>"
   ]
  },
  {
   "cell_type": "markdown",
   "id": "22e94d25",
   "metadata": {},
   "source": [
    "## 1. Exploratory Data Analysis - EDA"
   ]
  },
  {
   "cell_type": "code",
   "execution_count": 5,
   "id": "da423fc3",
   "metadata": {},
   "outputs": [],
   "source": [
    "import numpy as np\n",
    "import pandas as pd\n",
    "import matplotlib.pyplot as plt\n",
    "import seaborn as sns\n",
    "plt.style.use(\"fivethirtyeight\")\n",
    "import warnings\n",
    "warnings.filterwarnings(\"ignore\")\n",
    "%matplotlib inline"
   ]
  },
  {
   "cell_type": "code",
   "execution_count": 4,
   "id": "5d884ae5",
   "metadata": {
    "scrolled": true
   },
   "outputs": [
    {
     "name": "stdout",
     "output_type": "stream",
     "text": [
      "Collecting seaborn\n",
      "  Using cached seaborn-0.11.2-py3-none-any.whl (292 kB)\n",
      "Requirement already satisfied: matplotlib>=2.2 in /Users/seosang-u/miniforge3/envs/tf25/lib/python3.8/site-packages (from seaborn) (3.5.1)\n",
      "Requirement already satisfied: scipy>=1.0 in /Users/seosang-u/miniforge3/envs/tf25/lib/python3.8/site-packages (from seaborn) (1.7.3)\n",
      "Requirement already satisfied: pandas>=0.23 in /Users/seosang-u/miniforge3/envs/tf25/lib/python3.8/site-packages (from seaborn) (1.3.5)\n",
      "Requirement already satisfied: numpy>=1.15 in /Users/seosang-u/miniforge3/envs/tf25/lib/python3.8/site-packages (from seaborn) (1.19.5)\n",
      "Requirement already satisfied: packaging>=20.0 in /Users/seosang-u/miniforge3/envs/tf25/lib/python3.8/site-packages (from matplotlib>=2.2->seaborn) (21.3)\n",
      "Requirement already satisfied: pillow>=6.2.0 in /Users/seosang-u/miniforge3/envs/tf25/lib/python3.8/site-packages (from matplotlib>=2.2->seaborn) (8.3.1)\n",
      "Requirement already satisfied: pyparsing>=2.2.1 in /Users/seosang-u/miniforge3/envs/tf25/lib/python3.8/site-packages (from matplotlib>=2.2->seaborn) (3.0.6)\n",
      "Requirement already satisfied: cycler>=0.10 in /Users/seosang-u/miniforge3/envs/tf25/lib/python3.8/site-packages (from matplotlib>=2.2->seaborn) (0.11.0)\n",
      "Requirement already satisfied: python-dateutil>=2.7 in /Users/seosang-u/miniforge3/envs/tf25/lib/python3.8/site-packages (from matplotlib>=2.2->seaborn) (2.8.2)\n",
      "Requirement already satisfied: fonttools>=4.22.0 in /Users/seosang-u/miniforge3/envs/tf25/lib/python3.8/site-packages (from matplotlib>=2.2->seaborn) (4.28.5)\n",
      "Requirement already satisfied: kiwisolver>=1.0.1 in /Users/seosang-u/miniforge3/envs/tf25/lib/python3.8/site-packages (from matplotlib>=2.2->seaborn) (1.3.2)\n",
      "Requirement already satisfied: pytz>=2017.3 in /Users/seosang-u/miniforge3/envs/tf25/lib/python3.8/site-packages (from pandas>=0.23->seaborn) (2021.3)\n",
      "Collecting numpy>=1.15\n",
      "  Downloading numpy-1.23.2-cp38-cp38-macosx_11_0_arm64.whl (13.3 MB)\n",
      "     |████████████████████████████████| 13.3 MB 9.9 MB/s            \n",
      "\u001b[?25h  Using cached numpy-1.22.4-cp38-cp38-macosx_11_0_arm64.whl (12.7 MB)\n",
      "Requirement already satisfied: six>=1.5 in /Users/seosang-u/miniforge3/envs/tf25/lib/python3.8/site-packages (from python-dateutil>=2.7->matplotlib>=2.2->seaborn) (1.15.0)\n",
      "Installing collected packages: numpy, seaborn\n",
      "  Attempting uninstall: numpy\n",
      "    Found existing installation: numpy 1.19.5\n",
      "    Uninstalling numpy-1.19.5:\n",
      "      Successfully uninstalled numpy-1.19.5\n",
      "Successfully installed numpy-1.22.4 seaborn-0.11.2\n"
     ]
    }
   ],
   "source": [
    "!pip install seaborn"
   ]
  },
  {
   "cell_type": "code",
   "execution_count": 7,
   "id": "053e30da",
   "metadata": {},
   "outputs": [],
   "source": [
    "# data load\n",
    "data = pd.read_csv(\"./dataset/titanic/train.csv\")"
   ]
  },
  {
   "cell_type": "code",
   "execution_count": 8,
   "id": "cc0197c2",
   "metadata": {},
   "outputs": [
    {
     "data": {
      "text/html": [
       "<div>\n",
       "<style scoped>\n",
       "    .dataframe tbody tr th:only-of-type {\n",
       "        vertical-align: middle;\n",
       "    }\n",
       "\n",
       "    .dataframe tbody tr th {\n",
       "        vertical-align: top;\n",
       "    }\n",
       "\n",
       "    .dataframe thead th {\n",
       "        text-align: right;\n",
       "    }\n",
       "</style>\n",
       "<table border=\"1\" class=\"dataframe\">\n",
       "  <thead>\n",
       "    <tr style=\"text-align: right;\">\n",
       "      <th></th>\n",
       "      <th>PassengerId</th>\n",
       "      <th>Survived</th>\n",
       "      <th>Pclass</th>\n",
       "      <th>Name</th>\n",
       "      <th>Sex</th>\n",
       "      <th>Age</th>\n",
       "      <th>SibSp</th>\n",
       "      <th>Parch</th>\n",
       "      <th>Ticket</th>\n",
       "      <th>Fare</th>\n",
       "      <th>Cabin</th>\n",
       "      <th>Embarked</th>\n",
       "    </tr>\n",
       "  </thead>\n",
       "  <tbody>\n",
       "    <tr>\n",
       "      <th>0</th>\n",
       "      <td>1</td>\n",
       "      <td>0</td>\n",
       "      <td>3</td>\n",
       "      <td>Braund, Mr. Owen Harris</td>\n",
       "      <td>male</td>\n",
       "      <td>22.0</td>\n",
       "      <td>1</td>\n",
       "      <td>0</td>\n",
       "      <td>A/5 21171</td>\n",
       "      <td>7.2500</td>\n",
       "      <td>NaN</td>\n",
       "      <td>S</td>\n",
       "    </tr>\n",
       "    <tr>\n",
       "      <th>1</th>\n",
       "      <td>2</td>\n",
       "      <td>1</td>\n",
       "      <td>1</td>\n",
       "      <td>Cumings, Mrs. John Bradley (Florence Briggs Th...</td>\n",
       "      <td>female</td>\n",
       "      <td>38.0</td>\n",
       "      <td>1</td>\n",
       "      <td>0</td>\n",
       "      <td>PC 17599</td>\n",
       "      <td>71.2833</td>\n",
       "      <td>C85</td>\n",
       "      <td>C</td>\n",
       "    </tr>\n",
       "    <tr>\n",
       "      <th>2</th>\n",
       "      <td>3</td>\n",
       "      <td>1</td>\n",
       "      <td>3</td>\n",
       "      <td>Heikkinen, Miss. Laina</td>\n",
       "      <td>female</td>\n",
       "      <td>26.0</td>\n",
       "      <td>0</td>\n",
       "      <td>0</td>\n",
       "      <td>STON/O2. 3101282</td>\n",
       "      <td>7.9250</td>\n",
       "      <td>NaN</td>\n",
       "      <td>S</td>\n",
       "    </tr>\n",
       "    <tr>\n",
       "      <th>3</th>\n",
       "      <td>4</td>\n",
       "      <td>1</td>\n",
       "      <td>1</td>\n",
       "      <td>Futrelle, Mrs. Jacques Heath (Lily May Peel)</td>\n",
       "      <td>female</td>\n",
       "      <td>35.0</td>\n",
       "      <td>1</td>\n",
       "      <td>0</td>\n",
       "      <td>113803</td>\n",
       "      <td>53.1000</td>\n",
       "      <td>C123</td>\n",
       "      <td>S</td>\n",
       "    </tr>\n",
       "    <tr>\n",
       "      <th>4</th>\n",
       "      <td>5</td>\n",
       "      <td>0</td>\n",
       "      <td>3</td>\n",
       "      <td>Allen, Mr. William Henry</td>\n",
       "      <td>male</td>\n",
       "      <td>35.0</td>\n",
       "      <td>0</td>\n",
       "      <td>0</td>\n",
       "      <td>373450</td>\n",
       "      <td>8.0500</td>\n",
       "      <td>NaN</td>\n",
       "      <td>S</td>\n",
       "    </tr>\n",
       "  </tbody>\n",
       "</table>\n",
       "</div>"
      ],
      "text/plain": [
       "   PassengerId  Survived  Pclass  \\\n",
       "0            1         0       3   \n",
       "1            2         1       1   \n",
       "2            3         1       3   \n",
       "3            4         1       1   \n",
       "4            5         0       3   \n",
       "\n",
       "                                                Name     Sex   Age  SibSp  \\\n",
       "0                            Braund, Mr. Owen Harris    male  22.0      1   \n",
       "1  Cumings, Mrs. John Bradley (Florence Briggs Th...  female  38.0      1   \n",
       "2                             Heikkinen, Miss. Laina  female  26.0      0   \n",
       "3       Futrelle, Mrs. Jacques Heath (Lily May Peel)  female  35.0      1   \n",
       "4                           Allen, Mr. William Henry    male  35.0      0   \n",
       "\n",
       "   Parch            Ticket     Fare Cabin Embarked  \n",
       "0      0         A/5 21171   7.2500   NaN        S  \n",
       "1      0          PC 17599  71.2833   C85        C  \n",
       "2      0  STON/O2. 3101282   7.9250   NaN        S  \n",
       "3      0            113803  53.1000  C123        S  \n",
       "4      0            373450   8.0500   NaN        S  "
      ]
     },
     "execution_count": 8,
     "metadata": {},
     "output_type": "execute_result"
    }
   ],
   "source": [
    "data.head()"
   ]
  },
  {
   "cell_type": "code",
   "execution_count": 10,
   "id": "5e4f35d2",
   "metadata": {},
   "outputs": [
    {
     "data": {
      "text/plain": [
       "PassengerId      0\n",
       "Survived         0\n",
       "Pclass           0\n",
       "Name             0\n",
       "Sex              0\n",
       "Age            177\n",
       "SibSp            0\n",
       "Parch            0\n",
       "Ticket           0\n",
       "Fare             0\n",
       "Cabin          687\n",
       "Embarked         2\n",
       "dtype: int64"
      ]
     },
     "execution_count": 10,
     "metadata": {},
     "output_type": "execute_result"
    }
   ],
   "source": [
    "# dataset null check\n",
    "data.isnull().sum() # checking for total null values"
   ]
  },
  {
   "cell_type": "markdown",
   "id": "64c24e18",
   "metadata": {},
   "source": [
    "데이터 중 null 값이 존재하는 열은 Age, Cabin, Embarked이다. 노트 저자는 이것을 어떻게 처리할까?"
   ]
  },
  {
   "cell_type": "markdown",
   "id": "a5ee82f7",
   "metadata": {},
   "source": [
    "###### How many Survived?"
   ]
  },
  {
   "cell_type": "code",
   "execution_count": 13,
   "id": "fd04940a",
   "metadata": {},
   "outputs": [
    {
     "data": {
      "image/png": "[encoded data removed]",
      "text/plain": [
       "<Figure size 1296x576 with 2 Axes>"
      ]
     },
     "metadata": {
      "needs_background": "light"
     },
     "output_type": "display_data"
    }
   ],
   "source": [
    "# 1 x 2 개의 그래프를 넣을 수 있는 subplot 생성\n",
    "f, ax = plt.subplots(1, 2, figsize = (18,8))\n",
    "\n",
    "# [0,0] 위치에 pie plot 생성\n",
    "data[\"Survived\"].value_counts().plot.pie(explode = [0, 0.1], autopct = \"%1.1f%%\",\n",
    "                                         ax = ax[0], shadow = True)\n",
    "ax[0].set_title(\"Survived\")\n",
    "ax[0].set_ylabel(\"\")\n",
    "\n",
    "# [0,1] 위치에 bar plot 생성\n",
    "sns.countplot(\"Survived\", data = data, ax = ax[1])\n",
    "ax[1].set_title(\"Survived\")\n",
    "plt.show()"
   ]
  },
  {
   "cell_type": "code",
   "execution_count": null,
   "id": "4b7f0c7b",
   "metadata": {},
   "outputs": [],
   "source": []
  },
  {
   "cell_type": "code",
   "execution_count": null,
   "id": "20ed5784",
   "metadata": {},
   "outputs": [],
   "source": []
  },
  {
   "cell_type": "code",
   "execution_count": null,
   "id": "7266d452",
   "metadata": {},
   "outputs": [],
   "source": []
  },
  {
   "cell_type": "code",
   "execution_count": null,
   "id": "5a3aeb36",
   "metadata": {},
   "outputs": [],
   "source": []
  },
  {
   "cell_type": "markdown",
   "id": "9791188b",
   "metadata": {},
   "source": [
    "1. 데이터셋 description\n",
    "2. 분석 기법의 **간략한 이론**\n",
    "3. 라이브러리 사용법\n",
    "4. 해당 커널의 특징(다른 커널과의 차별점)\n",
    "5. 배운점 및 어려웠던 점"
   ]
  },
  {
   "cell_type": "code",
   "execution_count": null,
   "id": "4866c174",
   "metadata": {},
   "outputs": [],
   "source": []
  },
  {
   "cell_type": "code",
   "execution_count": null,
   "id": "9e1cceda",
   "metadata": {},
   "outputs": [],
   "source": []
  }
 ],
 "metadata": {
  "kernelspec": {
   "display_name": "Python 3 (ipykernel)",
   "language": "python",
   "name": "python3"
  },
  "language_info": {
   "codemirror_mode": {
    "name": "ipython",
    "version": 3
   },
   "file_extension": ".py",
   "mimetype": "text/x-python",
   "name": "python",
   "nbconvert_exporter": "python",
   "pygments_lexer": "ipython3",
   "version": "3.8.12"
  }
 },
 "nbformat": 4,
 "nbformat_minor": 5
}
